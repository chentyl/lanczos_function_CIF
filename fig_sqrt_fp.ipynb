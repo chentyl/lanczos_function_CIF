{
 "cells": [
  {
   "cell_type": "code",
   "execution_count": 1,
   "metadata": {},
   "outputs": [],
   "source": [
    "import numpy as np\n",
    "import scipy as sp\n",
    "from scipy import integrate\n",
    "import matplotlib.pyplot as plt\n",
    "from matplotlib.lines import Line2D\n",
    "\n",
    "from lanczos_bin import *\n",
    "\n",
    "from IPython.display import clear_output\n",
    "%load_ext autoreload\n",
    "%autoreload 2"
   ]
  },
  {
   "cell_type": "code",
   "execution_count": 2,
   "metadata": {},
   "outputs": [],
   "source": [
    "plt.rc('text', usetex=True)\n",
    "plt.rc('font', family='serif')"
   ]
  },
  {
   "cell_type": "markdown",
   "metadata": {},
   "source": [
    "## Setup"
   ]
  },
  {
   "cell_type": "code",
   "execution_count": 3,
   "metadata": {},
   "outputs": [],
   "source": [
    "n = 50\n",
    "lam = model_problem_spectrum(n,.8,1e3).astype(np.longdouble)\n",
    "b = np.ones(n,dtype=np.longdouble)\n",
    "b /= np.linalg.norm(b)\n",
    "\n",
    "lmin = np.min(lam).astype(np.double)\n",
    "lmax = np.max(lam).astype(np.double)\n",
    "kappa = lmax / lmin"
   ]
  },
  {
   "cell_type": "code",
   "execution_count": 4,
   "metadata": {},
   "outputs": [],
   "source": [
    "w = 0\n",
    "\n",
    "# norm to measure function approximation and linear system errors\n",
    "B = lam**2#np.ones(n)\n"
   ]
  },
  {
   "cell_type": "code",
   "execution_count": 5,
   "metadata": {},
   "outputs": [],
   "source": [
    "K = 100\n",
    "Q,(a_,b_) = exact_lanczos(lam.astype(np.single),b.astype(np.single),K+1,reorth=False)\n",
    "\n",
    "K_exact = 40\n",
    "Q_exact,(a_exact,b_exact) = exact_lanczos(lam,b,K_exact+1,reorth=True)"
   ]
  },
  {
   "cell_type": "code",
   "execution_count": 6,
   "metadata": {},
   "outputs": [],
   "source": [
    "T = np.diag(a_).astype(np.double) + np.diag(b_,1).astype(np.double) + np.diag(b_,-1).astype(np.double)\n",
    "F_roundoff = np.diag(lam)@Q.astype(np.double) - Q.astype(np.double)@T.astype(np.double)"
   ]
  },
  {
   "cell_type": "code",
   "execution_count": 7,
   "metadata": {},
   "outputs": [],
   "source": [
    "plot_tol = 1e-20"
   ]
  },
  {
   "cell_type": "code",
   "execution_count": 8,
   "metadata": {},
   "outputs": [],
   "source": [
    "T = np.zeros((3,K+1),dtype=np.double)\n",
    "T[0,1:] = b_\n",
    "T[1] = a_-w\n",
    "T[2,:-1] = b_\n",
    "\n",
    "e1 = np.zeros(K+1)\n",
    "e1[0] = 1"
   ]
  },
  {
   "cell_type": "code",
   "execution_count": 9,
   "metadata": {},
   "outputs": [],
   "source": [
    "err_CG = np.full(K,np.nan)\n",
    "\n",
    "for k in range(0,K):\n",
    "    try:\n",
    "        e = (1/(lam-w))*b - np.linalg.norm(b)*Q[:,:k+1]@sp.linalg.solve_banded((1,1),T[:,:k+1],e1[:k+1])\n",
    "        err_CG[k] = np.sqrt( e.T*B@e )\n",
    "    except: pass\n",
    "    \n",
    "    if err_CG[k] < plot_tol:\n",
    "        break"
   ]
  },
  {
   "cell_type": "code",
   "execution_count": 10,
   "metadata": {},
   "outputs": [],
   "source": [
    "res_CG = np.full(K,np.nan)\n",
    "\n",
    "for k in range(0,K):\n",
    "    try:\n",
    "        r = b - np.linalg.norm(b)*(lam-w)*(Q[:,:k+1]@sp.linalg.solve_banded((1,1),T[:,:k+1],e1[:k+1]))\n",
    "        res_CG[k] = np.sqrt( r@r )\n",
    "    except: pass\n",
    "    \n",
    "    if res_CG[k] < plot_tol:\n",
    "        break"
   ]
  },
  {
   "cell_type": "markdown",
   "metadata": {},
   "source": [
    "## $f(x) = 1/\\sqrt{x}$, $\\Gamma =$ circle"
   ]
  },
  {
   "cell_type": "code",
   "execution_count": 11,
   "metadata": {},
   "outputs": [],
   "source": [
    "def f(x):\n",
    "    return np.sqrt(x)\n",
    "\n",
    "fAb = f(lam)*b"
   ]
  },
  {
   "cell_type": "code",
   "execution_count": 12,
   "metadata": {},
   "outputs": [],
   "source": [
    "err_lanczos = np.full(K,np.nan)\n",
    "\n",
    "for k in range(0,K):\n",
    "    try:\n",
    "        e = fAb - lanczos_FA(f,Q[:,:k+1].astype(np.double),a_[:k+1].astype(np.double),b_[:k].astype(np.double),normb=np.linalg.norm(b))\n",
    "        err_lanczos[k] = np.sqrt( e.T*B@e )\n",
    "    except: pass\n",
    "    \n",
    "    if err_lanczos[k] < plot_tol:\n",
    "        break"
   ]
  },
  {
   "cell_type": "code",
   "execution_count": 13,
   "metadata": {},
   "outputs": [],
   "source": [
    "err_lanczos_exact = np.full(K,np.nan)\n",
    "\n",
    "for k in range(0,K_exact):\n",
    "    try:\n",
    "        e = fAb - lanczos_FA(f,Q_exact[:,:k+1],a_exact[:k+1],b_exact[:k],normb=np.linalg.norm(b))\n",
    "        err_lanczos_exact[k] = np.sqrt( e.T*B@e )\n",
    "    except: pass\n",
    "    \n",
    "    if err_lanczos_exact[k] < plot_tol:\n",
    "        break"
   ]
  },
  {
   "cell_type": "code",
   "execution_count": 14,
   "metadata": {},
   "outputs": [],
   "source": [
    "def Gamma(t):\n",
    "    z = lmin/100 + np.exp((np.pi-np.pi/100)*1j)*t\n",
    "    dz = np.exp((np.pi-np.pi/100)*1j)\n",
    "    \n",
    "    return z,dz"
   ]
  },
  {
   "cell_type": "code",
   "execution_count": 15,
   "metadata": {},
   "outputs": [
    {
     "name": "stderr",
     "output_type": "stream",
     "text": [
      "/home/tyler/Documents/GitHub/Research_Code/lanczos_function_CIF/lanczos_bin/lanczos.py:205: IntegrationWarning: The occurrence of roundoff error is detected, which prevents \n",
      "  the requested tolerance from being achieved.  The error may be \n",
      "  underestimated.\n",
      "  integral = sp.integrate.quad(F,endpts[0],endpts[1],epsabs=0,limit=200)\n"
     ]
    }
   ],
   "source": [
    "a_priori_bound_circle = np.full(K,np.inf)\n",
    "a_posteriori_bound_circle = np.full(K,np.inf)\n",
    "\n",
    "for k in range(1,K):\n",
    "    a_priori_bound_circle[k-1] = 2*get_a_priori_bound(f,Gamma,[0,np.inf],k,w,lmin,lmax)[0]\n",
    "    a_posteriori_bound_circle[k-1] = 2*get_a_posteriori_bound(f,Gamma,[0,np.inf],a_[:k],b_[:k-1],w,lmin,lmax)[0]"
   ]
  },
  {
   "cell_type": "code",
   "execution_count": 16,
   "metadata": {},
   "outputs": [
    {
     "name": "stderr",
     "output_type": "stream",
     "text": [
      "<ipython-input-16-acd74639c1d4>:28: IntegrationWarning: The maximum number of subdivisions (200) has been achieved.\n",
      "  If increasing the limit yields no improvement it is advised to analyze \n",
      "  the integrand in order to determine the difficulties.  If the position of a \n",
      "  local difficulty can be determined (singularity, discontinuity) one will \n",
      "  probably gain from splitting up the interval and calling the integrator \n",
      "  on the subranges.  Perhaps a special-purpose integrator should be used.\n",
      "  integral = sp.integrate.quad(F,0,np.inf,epsabs=0,limit=200)\n",
      "<ipython-input-16-acd74639c1d4>:28: IntegrationWarning: The algorithm does not converge.  Roundoff error is detected\n",
      "  in the extrapolation table.  It is assumed that the requested tolerance\n",
      "  cannot be achieved, and that the returned result (if full_output = 1) is \n",
      "  the best which can be obtained.\n",
      "  integral = sp.integrate.quad(F,0,np.inf,epsabs=0,limit=200)\n"
     ]
    }
   ],
   "source": [
    "f_norms_full = np.full(K,np.nan)\n",
    "\n",
    "for k in range(1,K):\n",
    "    theta = sp.linalg.eigvalsh_tridiagonal(a_[:k].astype(np.double),b_[:k-1].astype(np.double),tol=1e-30)\n",
    "\n",
    "    e1 = np.zeros(k,dtype='complex')\n",
    "    e1[0] = 1\n",
    "    \n",
    "    T = np.zeros((3,k),dtype='complex')\n",
    "    T[0,:-1] = b_[:k-1]\n",
    "    T[1] = a_[:k] - w\n",
    "    T[2,1:] = b_[:k-1]\n",
    "    \n",
    "    Twinve1 = sp.linalg.solve_banded((1, 1), T, e1)\n",
    "    \n",
    "    def F(t):\n",
    "\n",
    "        z,dz = Gamma(t)\n",
    "        \n",
    "        T[1] = a_[:k] - z\n",
    "\n",
    "        Tzinve1 = sp.linalg.solve_banded((1, 1), T, e1)\n",
    "\n",
    "        fk = F_roundoff[:,:k]@ (Tzinve1 - np.prod((theta-w)/(theta-z)) * Twinve1)\n",
    "        \n",
    "        return (1/(2*np.pi)) * np.abs(f(z)) * Q_wz(w,z,lmin,lmax) * np.linalg.norm(fk) * np.abs(dz)\n",
    "        \n",
    "    integral = sp.integrate.quad(F,0,np.inf,epsabs=0,limit=200) \n",
    "    \n",
    "    f_norms_full[k-1] = 2*integral[0]\n"
   ]
  },
  {
   "cell_type": "code",
   "execution_count": 17,
   "metadata": {},
   "outputs": [
    {
     "data": {
      "image/png": "[encoded data removed]",
      "text/plain": [
       "<Figure size 432x288 with 1 Axes>"
      ]
     },
     "metadata": {
      "needs_background": "light"
     },
     "output_type": "display_data"
    }
   ],
   "source": [
    "plt.figure(figsize=(6,4))\n",
    "\n",
    "\n",
    "plt.plot(err_lanczos_exact,linestyle='-',lw=.8,color='#073642')\n",
    "plt.plot(err_lanczos,linestyle='-',linewidth=2,color='#073642')\n",
    "\n",
    "\n",
    "plt.plot(a_priori_bound_circle*err_CG+f_norms_full,linestyle='-.',linewidth=2,color='#6c71c4')\n",
    "plt.plot(a_posteriori_bound_circle*err_CG+f_norms_full,linestyle='--',linewidth=2,color='#d33682')\n",
    "\n",
    "plt.plot(a_priori_bound_circle*err_CG,linestyle='-',linewidth=.5,color='#6c71c4')\n",
    "plt.plot(a_posteriori_bound_circle*err_CG,linestyle='-',linewidth=.5,color='#d33682')\n",
    "\n",
    "plt.yscale('log')\n",
    "\n",
    "legend_elements = [Line2D([0],[0],linestyle='-',color='#073642',label='$\\| f(\\mathbf{{A}})\\mathbf{{b}} - \\\\textsf{lan}_k(f) \\|_{(\\\\mathbf{A}-w\\\\mathbf{I})^2}$ (fp)'),\n",
    "                   Line2D([0],[0],linestyle='-',lw=.8,color='#073642',label='$\\| f(\\mathbf{{A}})\\mathbf{{b}} - \\\\textsf{lan}_k(f) \\|_{(\\\\mathbf{A}-w\\\\mathbf{I})^2}$'),\n",
    "\n",
    "                   Line2D([0],[0],linestyle='--',linewidth=2,color='#d33682',label='$(\\\\textrm{B1}) \\: \\| \\\\textsf{res}_k(w) \\|_2$'),\n",
    "                   Line2D([0],[0],linestyle='-',linewidth=.5,color='#d33682',label='$(\\\\textrm{B1}) \\: \\| \\\\textsf{res}_k(w) \\|_2+(\\\\textrm{FP})$'),\n",
    "                   Line2D([0],[0],linestyle='-.',linewidth=2,color='#6c71c4',label='$(\\\\textrm{B2}) \\: \\| \\\\textsf{res}_k(w) \\|_2$'),\n",
    "                   Line2D([0],[0],linestyle='-',linewidth=.5,color='#6c71c4',label='$(\\\\textrm{B2}) \\: \\| \\\\textsf{res}_k(w) \\|_2+(\\\\textrm{FP})$'),\n",
    "  \n",
    "#                   Line2D([0],[0],linestyle='-',linewidth=1,color='#073642',label='$\\\\exp(-2k/\\\\sqrt{\\\\kappa(\\\\mathbf{A}-w\\\\mathbf{I})})$')\n",
    "                  ]\n",
    "\n",
    "#plt.legend(handles=legend_elements,loc='upper right')\n",
    "\n",
    "#plt.plot(a_priori_bound_circle*2*(1/lmin)*np.linalg.norm(np.sqrt(B)*b)*(( np.sqrt(kappa) - 1 )/( np.sqrt(kappa) + 1 ))**np.arange(K),linestyle=':',linewidth=1,color='#073642')\n",
    "\n",
    "#for c in range(-12,4,3):\n",
    "#    plt.plot(10**(c)*(( np.sqrt(kappa) - 1 )/( np.sqrt(kappa) + 1 ))**np.arange(K),linestyle=':',linewidth=.5,color='#073642')\n",
    "\n",
    "plt.ylim(1e-10,1e1)\n",
    "\n",
    "plt.grid(True,linestyle=':',linewidth=.5)\n",
    "\n",
    "\n",
    "#plt.title('$(\\\\mathbf{A}-w\\\\mathbf{I})^2$-norm error bounds: $f(x) = \\\\sqrt{x}$')\n",
    "plt.xlabel('Lanczos iteration $k$')\n",
    "\n",
    "plt.savefig('imgs/sqrt_AwI2norm_fp.pdf',bbox_inches='tight')"
   ]
  },
  {
   "cell_type": "code",
   "execution_count": 18,
   "metadata": {},
   "outputs": [],
   "source": [
    "F_norms = np.full(K,np.nan)\n",
    "F_col_norms = np.full(K,np.nan)\n",
    "orth_norms = np.full(K,np.nan)\n",
    "\n",
    "for k in range(1,K):\n",
    "    F_norms[k-1] = np.linalg.norm(F_roundoff[:,:k+1].astype(np.double),ord='fro')\n",
    "    F_col_norms[k-1] = np.linalg.norm(F_roundoff[:,k+1].astype(np.double))"
   ]
  },
  {
   "cell_type": "code",
   "execution_count": 19,
   "metadata": {},
   "outputs": [
    {
     "data": {
      "image/png": "[encoded data removed]",
      "text/plain": [
       "<Figure size 432x288 with 1 Axes>"
      ]
     },
     "metadata": {
      "needs_background": "light"
     },
     "output_type": "display_data"
    }
   ],
   "source": [
    "plt.figure(figsize=(6,4))\n",
    "\n",
    "plt.plot(F_norms,linestyle='-',linewidth=2,color='#073642')\n",
    "#plt.plot(np.linalg.norm(F_roundoff,axis=0)[:-1],linestyle='--',color='#d33682')\n",
    "plt.plot(f_norms_full,linestyle='-.',linewidth=2,color='#6c71c4')\n",
    "#plt.plot(f_norms_simple,linestyle='--',color='#d33682')\n",
    "\n",
    "plt.yscale('log')\n",
    "\n",
    "legend_elements = [Line2D([0],[0],linestyle='-',color='#073642',label='$\\| \\\\mathbf{{F}}_k \\|_{{\\\\footnotesize\\\\textsf{{F}}}}$'),\n",
    "\n",
    "                   Line2D([0],[0],linestyle='--',color='#d33682',label='$\\| [\\\\mathbf{{F}}_k]_{:,k} \\|_2$'),\n",
    "                   Line2D([0],[0],linestyle='-.',color='#6c71c4',label='(FP)'),                  \n",
    "                  ]\n",
    "\n",
    "#plt.legend(handles=legend_elements,loc='upper right')\n",
    "\n",
    "plt.ylim([1e-9,1e-6])\n",
    "\n",
    "plt.grid(True,linestyle=':',linewidth=.5)\n",
    "\n",
    "#plt.title(f'finite precision quantities')\n",
    "plt.xlabel('Lanczos iteration $k$')\n",
    "\n",
    "plt.savefig('imgs/sqrt_CIF_fp_quantities.pdf',bbox_inches='tight')"
   ]
  }
 ],
 "metadata": {
  "kernelspec": {
   "display_name": "Python 3",
   "language": "python",
   "name": "python3"
  },
  "language_info": {
   "codemirror_mode": {
    "name": "ipython",
    "version": 3
   },
   "file_extension": ".py",
   "mimetype": "text/x-python",
   "name": "python",
   "nbconvert_exporter": "python",
   "pygments_lexer": "ipython3",
   "version": "3.8.3"
  }
 },
 "nbformat": 4,
 "nbformat_minor": 4
}
