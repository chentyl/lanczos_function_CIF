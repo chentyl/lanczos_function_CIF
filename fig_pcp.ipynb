{
 "cells": [
  {
   "cell_type": "code",
   "execution_count": 1,
   "metadata": {},
   "outputs": [],
   "source": [
    "import numpy as np\n",
    "import scipy as sp\n",
    "from scipy import integrate\n",
    "import matplotlib.pyplot as plt\n",
    "from matplotlib.lines import Line2D\n",
    "\n",
    "from lanczos_bin import *\n",
    "\n",
    "from IPython.display import clear_output\n",
    "%load_ext autoreload\n",
    "%autoreload 2"
   ]
  },
  {
   "cell_type": "code",
   "execution_count": 2,
   "metadata": {},
   "outputs": [],
   "source": [
    "plt.rc('text', usetex=True)\n",
    "plt.rc('font', family='serif')"
   ]
  },
  {
   "cell_type": "markdown",
   "metadata": {},
   "source": [
    "## Setup"
   ]
  },
  {
   "cell_type": "code",
   "execution_count": 3,
   "metadata": {},
   "outputs": [],
   "source": [
    "lam = np.load('matrices/MNIST_cov_eigs.npy')\n",
    "n = len(lam)\n",
    "\n",
    "b = np.ones(n,dtype=np.longdouble)\n",
    "b /= np.linalg.norm(b)\n",
    "\n",
    "lmin = np.min(lam).astype(np.double)\n",
    "lmax = np.max(lam).astype(np.double)"
   ]
  },
  {
   "cell_type": "code",
   "execution_count": 4,
   "metadata": {},
   "outputs": [],
   "source": [
    "a = .15*lmax\n",
    "\n",
    "w = a\n",
    "\n",
    "# norm to measure function approximation and linear system errors\n",
    "B = np.ones(n)\n",
    "\n",
    "kappa_w = np.max(np.abs(lam-w)) / np.min(np.abs(lam-w))"
   ]
  },
  {
   "cell_type": "code",
   "execution_count": 5,
   "metadata": {},
   "outputs": [
    {
     "data": {
      "text/plain": [
       "16"
      ]
     },
     "execution_count": 5,
     "metadata": {},
     "output_type": "execute_result"
    }
   ],
   "source": [
    "np.count_nonzero(lam>a)"
   ]
  },
  {
   "cell_type": "code",
   "execution_count": 6,
   "metadata": {},
   "outputs": [],
   "source": [
    "K = 55\n",
    "reorth=True\n",
    "Q,(a_,b_) = exact_lanczos(lam.astype(np.longdouble),b.astype(np.longdouble),K+1,reorth=reorth)"
   ]
  },
  {
   "cell_type": "code",
   "execution_count": 7,
   "metadata": {},
   "outputs": [],
   "source": [
    "plot_tol = 1e-20"
   ]
  },
  {
   "cell_type": "code",
   "execution_count": 8,
   "metadata": {},
   "outputs": [],
   "source": [
    "T = np.zeros((3,K+1))\n",
    "T[0,1:] = b_\n",
    "T[1] = a_-w\n",
    "T[2,:-1] = b_\n",
    "\n",
    "e1 = np.zeros(K+1)\n",
    "e1[0] = 1"
   ]
  },
  {
   "cell_type": "code",
   "execution_count": 9,
   "metadata": {},
   "outputs": [],
   "source": [
    "err_CG = np.full(K,np.nan)\n",
    "\n",
    "for k in range(0,K):\n",
    "    try:\n",
    "        e = (1/(lam-w))*b - np.linalg.norm(b)*Q[:,:k+1]@sp.linalg.solve_banded((1,1),T[:,:k+1],e1[:k+1])\n",
    "        err_CG[k] = np.sqrt( e.T*B@e )\n",
    "    except: pass\n",
    "    \n",
    "    if err_CG[k] < plot_tol:\n",
    "        break"
   ]
  },
  {
   "cell_type": "code",
   "execution_count": 10,
   "metadata": {},
   "outputs": [],
   "source": [
    "res_CG = np.full(K,np.nan)\n",
    "\n",
    "for k in range(0,K):\n",
    "    try:\n",
    "        r = b - np.linalg.norm(b)*(lam-w)*(Q[:,:k+1]@sp.linalg.solve_banded((1,1),T[:,:k+1],e1[:k+1]))\n",
    "        res_CG[k] = np.sqrt( r@r )\n",
    "    except: pass\n",
    "    \n",
    "    if res_CG[k] < plot_tol:\n",
    "        break"
   ]
  },
  {
   "cell_type": "markdown",
   "metadata": {},
   "source": [
    "## $f(x) = \\operatorname{step}(x-a)$, $\\Gamma =$ double circles"
   ]
  },
  {
   "cell_type": "code",
   "execution_count": 11,
   "metadata": {},
   "outputs": [],
   "source": [
    "def f(x):\n",
    "    return (np.real(x)>a)\n",
    "\n",
    "fAb = f(lam)*b"
   ]
  },
  {
   "cell_type": "code",
   "execution_count": 12,
   "metadata": {},
   "outputs": [],
   "source": [
    "err_lanczos = np.full(K,np.nan)\n",
    "\n",
    "for k in range(0,K):\n",
    "    try:\n",
    "        e = fAb - lanczos_FA(f,Q[:,:k+1],a_[:k+1],b_[:k],normb=np.linalg.norm(b))\n",
    "        err_lanczos[k] = np.sqrt( e.T*B@e )\n",
    "    except: pass\n",
    "    \n",
    "    if err_lanczos[k] < plot_tol:\n",
    "        break"
   ]
  },
  {
   "cell_type": "code",
   "execution_count": 13,
   "metadata": {},
   "outputs": [],
   "source": [
    "a_priori_bound = np.full(K,np.inf)\n",
    "a_posteriori_bound = np.full(K,np.inf)\n",
    "\n",
    "def Gamma1(t):\n",
    "    radius = lmax-w\n",
    "\n",
    "    z = radius*(np.exp(1j*t))+lmax\n",
    "    dz = radius*1j*np.exp(1j*t)\n",
    "    \n",
    "    return z,dz\n",
    "\n",
    "def Gamma2(t):\n",
    "    radius = w-lmin\n",
    "\n",
    "    z = radius*(np.exp(1j*t))+lmin\n",
    "    dz = radius*1j*np.exp(1j*t)\n",
    "    \n",
    "    return z,dz\n",
    "\n",
    "\n",
    "for k in range(1,K+1):\n",
    "    a_priori_bound[k-1] = 2*(get_a_priori_bound(f,Gamma1,[0,np.pi],k,w,lmin,lmax)[0]+\\\n",
    "                                    get_a_priori_bound(f,Gamma2,[0,np.pi],k,w,lmin,lmax)[0])\n",
    "    a_posteriori_bound[k-1] = 2*(get_a_posteriori_bound(f,Gamma1,[0,np.pi],a_[:k],b_[:k-1],w,lmin,lmax)[0]+\\\n",
    "                                        get_a_posteriori_bound(f,Gamma2,[0,np.pi],a_[:k],b_[:k-1],w,lmin,lmax)[0])"
   ]
  },
  {
   "cell_type": "code",
   "execution_count": 14,
   "metadata": {},
   "outputs": [
    {
     "data": {
      "image/png": "[encoded data removed]",
      "text/plain": [
       "<Figure size 432x288 with 1 Axes>"
      ]
     },
     "metadata": {
      "needs_background": "light"
     },
     "output_type": "display_data"
    }
   ],
   "source": [
    "plt.figure(figsize=(6,4))\n",
    "\n",
    "plt.plot(err_lanczos,linestyle='-',linewidth=2,color='#073642')\n",
    "\n",
    "#plt.plot(sub_mult_bound,linestyle=(0,(4,2,1,3)),linewidth=1,color='#2aa198')\n",
    "#plt.plot(triangle_bound,linestyle=(0,(7,5)),linewidth=1,color='#859900')\n",
    "#plt.plot(full_bound,linestyle='-',linewidth=1,color='#b58900')\n",
    "\n",
    "plt.plot((lmax-a)*err_CG,linestyle='-',linewidth=.5,color='#6c71c4')\n",
    "plt.plot(a_priori_bound*err_CG,linestyle='-.',linewidth=2,color='#6c71c4')\n",
    "plt.plot(a_posteriori_bound*err_CG,linestyle='--',linewidth=2,color='#d33682')\n",
    "\n",
    "#plt.plot(a_priori_bound*res_CG/lmin,linestyle='-.',linewidth=1,color='#6c71c4')\n",
    "#plt.plot(a_posteriori_bound*res_CG/lmin,linestyle='--',linewidth=1,color='#d33682')\n",
    "\n",
    "\n",
    "plt.yscale('log')\n",
    "\n",
    "legend_elements = [Line2D([0],[0],linestyle='-',color='#073642',label='$\\| f(\\mathbf{A})\\mathbf{b} - \\\\textsf{lan}_k(f) \\|_2$'),\n",
    "\n",
    "#                   Line2D([0],[0],linestyle=(0,(7,5)),linewidth=1,color='#859900',label='triangle inequality'),\n",
    "#                   Line2D([0],[0],linestyle=(0,(4,2,1,3)),linewidth=1,color='#2aa198',label='sub mult. inequality'),\n",
    "#                   Line2D([0],[0],linestyle='-',linewidth=1,color='#b58900',label='combined inequality'),\n",
    "\n",
    "                   Line2D([0],[0],linestyle='--',linewidth=2,color='#d33682',label='$(\\\\textrm{B1}) \\: \\| \\\\textsf{err}_k(w) \\|_2$'),\n",
    "                   Line2D([0],[0],linestyle='-.',linewidth=2,color='#6c71c4',label='$(\\\\textrm{B2}) \\: \\| \\\\textsf{err}_k(w) \\|_2$'),\n",
    "                   Line2D([0],[0],linestyle='-',linewidth=.5,color='#6c71c4',label='$(\\\\textrm{Table 2}) \\: \\| \\\\textsf{err}_k(w) \\|_2$'),\n",
    "\n",
    "#                   Line2D([0],[0],linestyle='--',linewidth=1,color='#d33682',label='$(\\\\textrm{A}) \\| \\\\textsf{reid}_k(w) \\|_2/\\\\lambda_{\\\\textrm{min}}$'),\n",
    "#                   Line2D([0],[0],linestyle='-.',linewidth=1,color='#6c71c4',label='$(\\\\textrm{B}) \\| \\\\textsf{resid}_k(w) \\|_2/\\\\lambda_{\\\\textrm{min}}$'),\n",
    "                   \n",
    "#                   Line2D([0],[0],linestyle=':',linewidth=1,color='#073642',label='$(\\\\textrm{B2}) \\:(\\\\textrm{CN})$')\n",
    "                  ]\n",
    "\n",
    "#plt.legend(handles=legend_elements,loc='lower left')\n",
    "\n",
    "#plt.plot(a_priori_bound*2*(1/np.min(np.abs(lam-w)))*(( kappa_w - 1 )/( kappa_w + 1 ))**np.arange(K),linestyle=':',linewidth=1,color='#073642')\n",
    "\n",
    "#for c in range(-14,3,3):\n",
    "#    plt.plot(10**(c)*(( kappa_w - 1 )/( kappa_w + 1 ))**np.arange(K),linestyle=':',linewidth=1,color='#073642')\n",
    "\n",
    "plt.ylim(1e-16,5e2)\n",
    "\n",
    "plt.grid(True,linestyle=':',linewidth=.5)\n",
    "\n",
    "\n",
    "#plt.title('2-norm error bounds: $f(x) = \\\\mathrm{step}(x-a)$,')\n",
    "plt.xlabel('Lanczos iteration $k$')\n",
    "\n",
    "plt.savefig('imgs/step_2norm.pdf',bbox_inches='tight')"
   ]
  },
  {
   "cell_type": "code",
   "execution_count": null,
   "metadata": {},
   "outputs": [],
   "source": []
  }
 ],
 "metadata": {
  "kernelspec": {
   "display_name": "Python 3",
   "language": "python",
   "name": "python3"
  },
  "language_info": {
   "codemirror_mode": {
    "name": "ipython",
    "version": 3
   },
   "file_extension": ".py",
   "mimetype": "text/x-python",
   "name": "python",
   "nbconvert_exporter": "python",
   "pygments_lexer": "ipython3",
   "version": "3.8.3"
  }
 },
 "nbformat": 4,
 "nbformat_minor": 4
}
