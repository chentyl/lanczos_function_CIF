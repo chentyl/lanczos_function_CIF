{
 "cells": [
  {
   "cell_type": "code",
   "execution_count": 1,
   "metadata": {},
   "outputs": [],
   "source": [
    "import numpy as np\n",
    "import scipy as sp\n",
    "from scipy import integrate\n",
    "import matplotlib.pyplot as plt\n",
    "from matplotlib.lines import Line2D\n",
    "\n",
    "from lanczos_bin import *\n",
    "\n",
    "from IPython.display import clear_output\n",
    "%load_ext autoreload\n",
    "%autoreload 2"
   ]
  },
  {
   "cell_type": "code",
   "execution_count": 2,
   "metadata": {},
   "outputs": [],
   "source": [
    "plt.rc('text', usetex=True)\n",
    "plt.rc('font', family='serif')"
   ]
  },
  {
   "cell_type": "code",
   "execution_count": 3,
   "metadata": {},
   "outputs": [],
   "source": [
    "def get_a_priori_bound_Qz(f,gamma,endpts,k,w,lmin,lmax):\n",
    "    \"\"\"\n",
    "    (1/2pi) \\oint_{\\Gamma} |f(z)| (Q_{w,z})^{k+1} |dz|\n",
    "    \"\"\"\n",
    "    \n",
    "    def F(t):\n",
    "        z,dz = gamma(t)\n",
    "                \n",
    "        return (1/(2*np.pi)) * np.abs(f(z)) * Q_wz(w,z,lmin,lmax)**(2*k) * Q_z(z,lmin,lmax) * np.abs(dz)\n",
    "    \n",
    "    integral = sp.integrate.quad(F,endpts[0],endpts[1],epsabs=0,limit=200) \n",
    "    \n",
    "    return integral\n"
   ]
  },
  {
   "cell_type": "code",
   "execution_count": 4,
   "metadata": {},
   "outputs": [],
   "source": [
    "def get_a_posteriori_bound_Qz(f,gamma,endpts,a_,b_,w,lmin,lmax):\n",
    "    \"\"\"\n",
    "    (1/2pi) \\oint_{\\Gamma} |f(z)| |D_{k,z}| Q_{w,z} |dz|\n",
    "    \"\"\"\n",
    "    \n",
    "    theta = sp.linalg.eigvalsh_tridiagonal(a_,b_,tol=1e-30)\n",
    "\n",
    "    def F(t):\n",
    "        z,dz = gamma(t)\n",
    "        \n",
    "        return (1/(2*np.pi)) * np.abs(f(z)) * np.abs(np.prod((theta-w)/(theta-z)))**2 * Q_z(z,lmin,lmax) * np.abs(dz)\n",
    "    \n",
    "    integral = sp.integrate.quad(F,endpts[0],endpts[1],epsabs=0,limit=200) \n",
    "    \n",
    "    return integral"
   ]
  },
  {
   "cell_type": "markdown",
   "metadata": {},
   "source": [
    "## Setup"
   ]
  },
  {
   "cell_type": "code",
   "execution_count": 5,
   "metadata": {},
   "outputs": [],
   "source": [
    "n = 3000\n",
    "m = 2*n\n",
    "X = np.random.randn(n,m)/np.sqrt(2*n)\n",
    "A = X@X.T\n",
    "lam = np.linalg.eigvalsh(A)\n",
    "#lam = np.load('matrices/Erdos992_eigs.npy')\n",
    "#lam /= np.min(np.abs(lam))\n",
    "n = len(lam)\n",
    "\n",
    "b = np.ones(n,dtype=np.longdouble)\n",
    "b /= np.linalg.norm(b)\n",
    "\n",
    "lmin = np.min(lam).astype(np.double)\n",
    "lmax = np.max(lam).astype(np.double)\n",
    "kappa = lmax / lmin"
   ]
  },
  {
   "cell_type": "code",
   "execution_count": 6,
   "metadata": {},
   "outputs": [],
   "source": [
    "w = 0\n",
    "\n",
    "# norm to measure function approximation and linear system errors\n",
    "B = np.ones(n)"
   ]
  },
  {
   "cell_type": "code",
   "execution_count": 7,
   "metadata": {},
   "outputs": [],
   "source": [
    "K = 40\n",
    "reorth=True\n",
    "Q,(a_,b_) = exact_lanczos(lam.astype(np.longdouble),b.astype(np.longdouble),K+1,reorth=reorth)"
   ]
  },
  {
   "cell_type": "code",
   "execution_count": 8,
   "metadata": {},
   "outputs": [],
   "source": [
    "plot_tol = 1e-14"
   ]
  },
  {
   "cell_type": "code",
   "execution_count": 9,
   "metadata": {},
   "outputs": [],
   "source": [
    "T = np.zeros((3,K+1))\n",
    "T[0,1:] = b_\n",
    "T[1] = a_-w\n",
    "T[2,:-1] = b_\n",
    "\n",
    "e1 = np.zeros(K+1)\n",
    "e1[0] = 1"
   ]
  },
  {
   "cell_type": "code",
   "execution_count": 10,
   "metadata": {},
   "outputs": [],
   "source": [
    "err_CG = np.full(K,np.nan)\n",
    "\n",
    "for k in range(0,K):\n",
    "    try:\n",
    "        e = (1/(lam-w))*b - np.linalg.norm(b)*Q[:,:k+1]@sp.linalg.solve_banded((1,1),T[:,:k+1],e1[:k+1])\n",
    "        err_CG[k] = np.sqrt( e.T*B@e )\n",
    "    except: pass\n",
    "    \n",
    "    if err_CG[k] < plot_tol:\n",
    "        break"
   ]
  },
  {
   "cell_type": "code",
   "execution_count": 11,
   "metadata": {},
   "outputs": [],
   "source": [
    "res_CG = np.full(K,np.nan)\n",
    "\n",
    "for k in range(0,K):\n",
    "    try:\n",
    "        r = b - np.linalg.norm(b)*(lam-w)*(Q[:,:k+1]@sp.linalg.solve_banded((1,1),T[:,:k+1],e1[:k+1]))\n",
    "        res_CG[k] = np.sqrt( r@r )\n",
    "    except: pass\n",
    "    \n",
    "    if res_CG[k] < plot_tol:\n",
    "        break"
   ]
  },
  {
   "cell_type": "code",
   "execution_count": 12,
   "metadata": {},
   "outputs": [],
   "source": [
    "Anorm_estimate = np.full(K,np.nan)\n",
    "Anorm_bound = np.full(K,np.nan)\n",
    "\n",
    "d = 10\n",
    "\n",
    "for k in range(0,K):\n",
    "    try:\n",
    "        Tk_inv_e1 = sp.linalg.solve_banded((1,1),T[:,:k+1],e1[:k+1])\n",
    "        e = (1/(lam-w))*b - np.linalg.norm(b)*Q[:,:k+1]@Tk_inv_e1\n",
    "                \n",
    "        if k+d+1<K:\n",
    "            Tkd_inv_e1 = sp.linalg.solve_banded((1,1),T[:,:k+d+1],e1[:k+d+1])\n",
    "            \n",
    "        Anorm_estimate[k] = np.linalg.norm(b)*np.sqrt(e1[:k+d+1]@Tkd_inv_e1 - e1[:k+1]@Tk_inv_e1)\n",
    "        Anorm_bound[k] = np.sqrt(np.linalg.norm(b)**2*(e1[:k+d+1]@Tkd_inv_e1 - e1[:k+1]@Tk_inv_e1) + (1/lmin) * res_CG[k+d+1]**2)\n",
    "\n",
    "        \n",
    "    except: pass\n",
    "    \n",
    "    if err_CG[k] < plot_tol:\n",
    "        break"
   ]
  },
  {
   "cell_type": "markdown",
   "metadata": {},
   "source": [
    "## $f(x) = \\log{x}$"
   ]
  },
  {
   "cell_type": "code",
   "execution_count": 13,
   "metadata": {},
   "outputs": [],
   "source": [
    "def f(x):\n",
    "    return np.log(x)\n",
    "\n",
    "fAb = f(lam)*b"
   ]
  },
  {
   "cell_type": "code",
   "execution_count": 14,
   "metadata": {},
   "outputs": [],
   "source": [
    "err_lanczos = np.full(K,np.nan)\n",
    "err_quad_form = np.full(K,np.nan)\n",
    "\n",
    "for k in range(0,K):\n",
    "    try:\n",
    "        e = fAb - lanczos_FA(f,Q[:,:k+1],a_[:k+1],b_[:k],normb=np.linalg.norm(b)) # B-norm of b is one\n",
    "        err_lanczos[k] = np.sqrt( e.T*B@e )\n",
    "        err_quad_form[k] = np.abs(b@e)\n",
    "\n",
    "    except: pass\n",
    "    \n",
    "    if err_lanczos[k] < plot_tol:\n",
    "        break"
   ]
  },
  {
   "cell_type": "code",
   "execution_count": 15,
   "metadata": {},
   "outputs": [],
   "source": [
    "a_priori_bound = np.full(K,np.inf)\n",
    "a_posteriori_bound = np.full(K,np.inf)\n",
    "\n",
    "def Gamma1(t):\n",
    "    z = lmin/100*(np.cos(t)+np.sin(t)*1j)\n",
    "    dz = lmin/100*(-np.sin(t)+np.cos(t)*1j)\n",
    "    \n",
    "    return z,dz\n",
    "\n",
    "def Gamma2(t):\n",
    "    z = lmin/100*1j*t\n",
    "    dz = lmin/100*1j\n",
    "    \n",
    "    return z,dz\n",
    "\n",
    "for k in range(1,K):\n",
    "    a_priori_bound[k-1] = 2*get_a_priori_bound_Qz(f,Gamma1,[0,np.pi/2],k,w,lmin,lmax)[0] +\\\n",
    "                            2*get_a_priori_bound_Qz(f,Gamma2,[0,np.inf],k,w,lmin,lmax)[0]\n",
    "    a_posteriori_bound[k-1] = 2*get_a_posteriori_bound_Qz(f,Gamma1,[0,np.pi/2],a_[:k],b_[:k-1],w,lmin,lmax)[0] +\\\n",
    "                                2*get_a_posteriori_bound_Qz(f,Gamma2,[0,np.inf],a_[:k],b_[:k-1],w,lmin,lmax)[0]\n",
    "\n"
   ]
  },
  {
   "cell_type": "code",
   "execution_count": 16,
   "metadata": {},
   "outputs": [],
   "source": [
    "a_priori_bound_approx_spectrum = np.full(K,np.inf)\n",
    "a_posteriori_bound_approx_spectrum = np.full(K,np.inf)\n",
    "\n",
    "def Gamma1(t):\n",
    "    z = lmin/100/2*(np.cos(t)+np.sin(t)*1j)\n",
    "    dz = lmin/100/2*(-np.sin(t)+np.cos(t)*1j)\n",
    "    \n",
    "    return z,dz\n",
    "\n",
    "def Gamma2(t):\n",
    "    z = lmin/100/2*1j*t\n",
    "    dz = lmin/100/2*1j\n",
    "    \n",
    "    return z,dz\n",
    "\n",
    "\n",
    "for k in range(1,K):\n",
    "    a_priori_bound_approx_spectrum[k-1] = 2*get_a_priori_bound_Qz(f,Gamma1,[0,np.pi/2],k,w,lmin/2,lmax*2)[0]+\\\n",
    "                                            2*get_a_priori_bound_Qz(f,Gamma2,[0,np.inf],k,w,lmin/2,lmax*2)[0]\n",
    "    a_posteriori_bound_approx_spectrum[k-1] = 2*get_a_posteriori_bound_Qz(f,Gamma1,[0,np.pi/2],a_[:k],b_[:k-1],w,lmin/2,lmax*2)[0] +\\\n",
    "                                                2*get_a_posteriori_bound_Qz(f,Gamma2,[0,np.inf],a_[:k],b_[:k-1],w,lmin/2,lmax*2)[0]\n",
    "\n"
   ]
  },
  {
   "cell_type": "code",
   "execution_count": 17,
   "metadata": {},
   "outputs": [
    {
     "data": {
      "image/png": "[encoded data removed]",
      "text/plain": [
       "<Figure size 432x288 with 1 Axes>"
      ]
     },
     "metadata": {
      "needs_background": "light"
     },
     "output_type": "display_data"
    }
   ],
   "source": [
    "plt.figure(figsize=(6,4))\n",
    "\n",
    "plt.plot(err_lanczos**2,linestyle='-',linewidth=1,color='#073642')\n",
    "plt.plot(err_quad_form,linestyle='-',linewidth=2,color='#073642')\n",
    "\n",
    "#plt.plot(sub_mult_bound,linestyle=(0,(4,2,1,3)),linewidth=1,color='#2aa198')\n",
    "#plt.plot(triangle_bound,linestyle=(0,(7,5)),linewidth=1,color='#859900')\n",
    "#plt.plot(full_bound,linestyle='-',linewidth=1,color='#b58900')\n",
    "\n",
    "plt.plot(a_priori_bound*res_CG**2,linestyle='-.',linewidth=2,color='#6c71c4')\n",
    "plt.plot(a_posteriori_bound*res_CG**2,linestyle='--',linewidth=2,color='#d33682')\n",
    "\n",
    "plt.plot(a_priori_bound_approx_spectrum*res_CG**2,linestyle='-',linewidth=.5,color='#6c71c4')\n",
    "plt.plot(a_posteriori_bound_approx_spectrum*res_CG**2,linestyle='-',linewidth=.5,color='#d33682')\n",
    "\n",
    "#plt.plot(a_priori_bound*res_CG/lmin,linestyle='-.',linewidth=1,color='#6c71c4')\n",
    "#plt.plot(a_posteriori_bound*res_CG/lmin,linestyle='--',linewidth=1,color='#d33682')\n",
    "\n",
    "\n",
    "plt.yscale('log')\n",
    "\n",
    "legend_elements = [Line2D([0],[0],linestyle='-',linewidth=1,color='#073642',label='$\\| f(\\mathbf{{A}})\\mathbf{{b}} - \\\\textsf{lanc}_k(f) \\|_2^2$'),\n",
    "                   Line2D([0],[0],linestyle='-',linewidth=2,color='#073642',label=r'$| \\mathbf{b}^{\\footnotesize\\textsf{H}} f(\\mathbf{A}) \\mathbf{b} - \\mathbf{b}^{\\footnotesize\\textsf{H}} \\textsf{lanc}_k(f) |$'),\n",
    "\n",
    "                   Line2D([0],[0],linestyle='--',linewidth=2,color='#d33682',label='$(\\\\textrm{Q1}) \\: \\| \\\\textsf{resid}_k(w) \\|_2^2$'),\n",
    "                   Line2D([0],[0],linestyle='-.',linewidth=2,color='#6c71c4',label='$(\\\\textrm{Q2}) \\: \\| \\\\textsf{resid}_k(w) \\|_2^2$'),\n",
    "                   \n",
    "                   Line2D([0],[0],linestyle='-',linewidth=.5,color='#073642',label='$\\\\exp(-4k/\\\\sqrt{\\\\kappa(\\\\mathbf{A}-w\\\\mathbf{I})})$')\n",
    "                  ]\n",
    "\n",
    "#plt.legend(handles=legend_elements,loc='lower left')\n",
    "\n",
    "#for c in range(-10,14,3):\n",
    "#    plt.plot(10**(c)*(( np.sqrt(kappa) - 1 )/( np.sqrt(kappa) + 1 ))**(2*np.arange(K)),linestyle=':',linewidth=.5,color='#073642')\n",
    "\n",
    "plt.ylim(1e-15,1e1)\n",
    "\n",
    "plt.grid(True,linestyle=':',linewidth=.5)\n",
    "\n",
    "\n",
    "#plt.title(f'quadratic form error bounds: $f(x) = \\\\log(x)$')\n",
    "plt.xlabel('Lanczos iteration $k$')\n",
    "\n",
    "plt.savefig('imgs/log_quadform.pdf',bbox_inches='tight')"
   ]
  },
  {
   "cell_type": "code",
   "execution_count": null,
   "metadata": {},
   "outputs": [],
   "source": []
  }
 ],
 "metadata": {
  "kernelspec": {
   "display_name": "Python 3",
   "language": "python",
   "name": "python3"
  },
  "language_info": {
   "codemirror_mode": {
    "name": "ipython",
    "version": 3
   },
   "file_extension": ".py",
   "mimetype": "text/x-python",
   "name": "python",
   "nbconvert_exporter": "python",
   "pygments_lexer": "ipython3",
   "version": "3.8.3"
  }
 },
 "nbformat": 4,
 "nbformat_minor": 4
}
