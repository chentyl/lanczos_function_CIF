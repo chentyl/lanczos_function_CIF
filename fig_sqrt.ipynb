{
 "cells": [
  {
   "cell_type": "code",
   "execution_count": 1,
   "metadata": {},
   "outputs": [],
   "source": [
    "import numpy as np\n",
    "import scipy as sp\n",
    "from scipy import integrate\n",
    "import matplotlib.pyplot as plt\n",
    "from matplotlib.lines import Line2D\n",
    "\n",
    "from lanczos_bin import *\n",
    "\n",
    "from IPython.display import clear_output\n",
    "%load_ext autoreload\n",
    "%autoreload 2"
   ]
  },
  {
   "cell_type": "code",
   "execution_count": 2,
   "metadata": {},
   "outputs": [],
   "source": [
    "plt.rc('text', usetex=True)\n",
    "plt.rc('font', family='serif')"
   ]
  },
  {
   "cell_type": "markdown",
   "metadata": {},
   "source": [
    "## Setup"
   ]
  },
  {
   "cell_type": "code",
   "execution_count": 3,
   "metadata": {},
   "outputs": [],
   "source": [
    "n = 1000\n",
    "lam = np.linspace(1e-2,1e2,n)\n",
    "b = np.ones(n,dtype=np.longdouble)\n",
    "b /= np.linalg.norm(b)\n",
    "\n",
    "lmin = np.min(lam).astype(np.double)\n",
    "lmax = np.max(lam).astype(np.double)\n",
    "kappa = lmax / lmin\n",
    "\n",
    "lmin_ = lmin/2\n",
    "lmax_ = 2*lmax"
   ]
  },
  {
   "cell_type": "code",
   "execution_count": 4,
   "metadata": {},
   "outputs": [],
   "source": [
    "w = 0\n",
    "\n",
    "# norm to measure function approximation and linear system errors\n",
    "B = lam"
   ]
  },
  {
   "cell_type": "code",
   "execution_count": 5,
   "metadata": {},
   "outputs": [],
   "source": [
    "K = 200\n",
    "reorth=True\n",
    "Q,(a_,b_) = exact_lanczos(lam.astype(np.longdouble),b.astype(np.longdouble),K+1,reorth=reorth)"
   ]
  },
  {
   "cell_type": "code",
   "execution_count": 6,
   "metadata": {},
   "outputs": [],
   "source": [
    "plot_tol = 1e-14"
   ]
  },
  {
   "cell_type": "code",
   "execution_count": 7,
   "metadata": {},
   "outputs": [],
   "source": [
    "T = np.zeros((3,K+1))\n",
    "T[0,1:] = b_\n",
    "T[1] = a_-w\n",
    "T[2,:-1] = b_\n",
    "\n",
    "e1 = np.zeros(K+1)\n",
    "e1[0] = 1"
   ]
  },
  {
   "cell_type": "code",
   "execution_count": 8,
   "metadata": {},
   "outputs": [],
   "source": [
    "err_CG = np.full(K,np.nan)\n",
    "\n",
    "for k in range(0,K):\n",
    "    try:\n",
    "        e = (1/(lam-w))*b - np.linalg.norm(b)*Q[:,:k+1]@sp.linalg.solve_banded((1,1),T[:,:k+1],e1[:k+1])\n",
    "        err_CG[k] = np.sqrt( e.T*B@e )\n",
    "    except: pass\n",
    "    \n",
    "    if err_CG[k] < plot_tol:\n",
    "        break"
   ]
  },
  {
   "cell_type": "code",
   "execution_count": 9,
   "metadata": {},
   "outputs": [],
   "source": [
    "res_CG = np.full(K,np.nan)\n",
    "\n",
    "for k in range(0,K):\n",
    "    try:\n",
    "        r = b - np.linalg.norm(b)*(lam-w)*(Q[:,:k+1]@sp.linalg.solve_banded((1,1),T[:,:k+1],e1[:k+1]))\n",
    "        res_CG[k] = np.sqrt( r@r )\n",
    "    except: pass\n",
    "    \n",
    "    if res_CG[k] < plot_tol:\n",
    "        break"
   ]
  },
  {
   "cell_type": "code",
   "execution_count": 10,
   "metadata": {},
   "outputs": [],
   "source": [
    "Anorm_estimate = np.full(K,np.nan)\n",
    "Anorm_bound = np.full(K,np.nan)\n",
    "\n",
    "d = 10\n",
    "\n",
    "for k in range(0,K):\n",
    "    try:\n",
    "        Tk_inv_e1 = sp.linalg.solve_banded((1,1),T[:,:k+1],e1[:k+1])\n",
    "        e = (1/(lam-w))*b - np.linalg.norm(b)*Q[:,:k+1]@Tk_inv_e1\n",
    "                \n",
    "        if k+d+1<K:\n",
    "            Tkd_inv_e1 = sp.linalg.solve_banded((1,1),T[:,:k+d+1],e1[:k+d+1])\n",
    "            \n",
    "        Anorm_estimate[k] = np.linalg.norm(b)*np.sqrt(e1[:k+d+1]@Tkd_inv_e1 - e1[:k+1]@Tk_inv_e1)\n",
    "        Anorm_bound[k] = np.sqrt(np.linalg.norm(b)**2*(e1[:k+d+1]@Tkd_inv_e1 - e1[:k+1]@Tk_inv_e1) + (1/lmin) * res_CG[k+d+1]**2)\n",
    "\n",
    "        \n",
    "    except: pass\n",
    "    \n",
    "    if err_CG[k] < plot_tol:\n",
    "        break"
   ]
  },
  {
   "cell_type": "markdown",
   "metadata": {},
   "source": [
    "## $f(x) = \\sqrt{x}$, $\\Gamma =$ circle"
   ]
  },
  {
   "cell_type": "code",
   "execution_count": 11,
   "metadata": {},
   "outputs": [],
   "source": [
    "def f(x):\n",
    "    return np.sqrt(x)\n",
    "\n",
    "fAb = f(lam)*b"
   ]
  },
  {
   "cell_type": "code",
   "execution_count": 12,
   "metadata": {},
   "outputs": [],
   "source": [
    "err_lanczos = np.full(K,np.nan)\n",
    "\n",
    "for k in range(0,K):\n",
    "    try:\n",
    "        e = fAb - lanczos_FA(f,Q[:,:k+1],a_[:k+1],b_[:k],normb=np.linalg.norm(b))\n",
    "        err_lanczos[k] = np.sqrt( e.T*B@e )\n",
    "    except: pass\n",
    "    \n",
    "    if err_lanczos[k] < plot_tol:\n",
    "        break"
   ]
  },
  {
   "cell_type": "code",
   "execution_count": 13,
   "metadata": {},
   "outputs": [],
   "source": [
    "a_priori_bound_circle = np.full(K,np.inf)\n",
    "a_posteriori_bound_circle = np.full(K,np.inf)\n",
    "exact_bound_circle = np.full(K,np.inf)\n",
    "\n",
    "def Gamma(t):\n",
    "    radius = lmax-lmin/100\n",
    "\n",
    "    z = radius*np.exp(1j*t)+lmax\n",
    "    dz = radius*1j*np.exp(1j*t)\n",
    "    \n",
    "    return z,dz\n",
    "\n",
    "for k in range(1,K):\n",
    "    a_priori_bound_circle[k-1] = 2*get_a_priori_bound(f,Gamma,[0,np.pi],k,w,lmin,lmax)[0]\n",
    "    a_posteriori_bound_circle[k-1] = 2*get_a_posteriori_bound(f,Gamma,[0,np.pi],a_[:k],b_[:k-1],w,lmin,lmax)[0]\n",
    "    exact_bound_circle[k-1] = 2*get_exact_bound(f,Gamma,[0,np.pi],a_[:k],b_[:k-1],w,lam)[0]\n",
    "\n"
   ]
  },
  {
   "cell_type": "code",
   "execution_count": 14,
   "metadata": {},
   "outputs": [],
   "source": [
    "a_priori_bound_circle_approx_spectrum = np.full(K,np.inf)\n",
    "a_posteriori_bound_circle_approx_spectrum = np.full(K,np.inf)\n",
    "    \n",
    "def Gamma(t):\n",
    "\n",
    "\n",
    "    radius = lmax_ - lmin_/100\n",
    "\n",
    "    z = radius*np.exp(1j*t)+lmax_\n",
    "    dz = radius*1j*np.exp(1j*t)\n",
    "    \n",
    "    return z,dz\n",
    "\n",
    "for k in range(1,K):\n",
    "    a_priori_bound_circle_approx_spectrum[k-1] = 2*get_a_priori_bound(f,Gamma,[0,np.pi],k,w,lmin_,lmax_)[0]\n",
    "    a_posteriori_bound_circle_approx_spectrum[k-1] = 2*get_a_posteriori_bound(f,Gamma,[0,np.pi],a_[:k],b_[:k-1],w,lmin_,lmax_)[0]\n",
    "\n"
   ]
  },
  {
   "cell_type": "code",
   "execution_count": 15,
   "metadata": {},
   "outputs": [
    {
     "data": {
      "image/png": "[encoded data removed]",
      "text/plain": [
       "<Figure size 432x288 with 1 Axes>"
      ]
     },
     "metadata": {
      "needs_background": "light"
     },
     "output_type": "display_data"
    }
   ],
   "source": [
    "plt.figure(figsize=(6,4))\n",
    "\n",
    "plt.plot(err_lanczos,linestyle='-',linewidth=2,color='#073642')\n",
    "\n",
    "#plt.plot(sub_mult_bound,linestyle=(0,(4,2,1,3)),linewidth=1,color='#2aa198')\n",
    "#plt.plot(triangle_bound,linestyle=(0,(7,5)),linewidth=1,color='#859900')\n",
    "#plt.plot(full_bound,linestyle='-',linewidth=1,color='#b58900')\n",
    "\n",
    "plt.plot(a_priori_bound_circle*err_CG,linestyle='-.',linewidth=2,color='#6c71c4')\n",
    "#plt.plot(np.sqrt(2)*lmax**3/2*err_CG,linestyle='-.',linewidth=2,color='red')\n",
    "plt.plot(a_posteriori_bound_circle*err_CG,linestyle='--',linewidth=2,color='#d33682')\n",
    "#plt.plot(exact_bound_circle*err_CG,linestyle='--',linewidth=2,color='red')\n",
    "\n",
    "\n",
    "plt.plot(a_priori_bound_circle_approx_spectrum*err_CG,linestyle='-',linewidth=.5,color='#6c71c4')\n",
    "plt.plot(a_posteriori_bound_circle_approx_spectrum*err_CG,linestyle='-',linewidth=.5,color='#d33682')\n",
    "\n",
    "#plt.plot(a_priori_bound*res_CG/lmin,linestyle='-.',linewidth=1,color='#6c71c4')\n",
    "#plt.plot(a_posteriori_bound*res_CG/lmin,linestyle='--',linewidth=1,color='#d33682')\n",
    "\n",
    "\n",
    "plt.yscale('log')\n",
    "\n",
    "legend_elements = [Line2D([0],[0],linestyle='-',color='#073642',label='$\\| f(\\mathbf{A})\\mathbf{b} - \\\\textsf{lan}_k(f) \\|_\\mathbf{{A}}$'),\n",
    "\n",
    "                   Line2D([0],[0],linestyle='--',linewidth=2,color='#d33682',label='$(\\\\textrm{B1}) \\: \\| \\\\textsf{err}_k(w) \\|_\\mathbf{A}$, $S=\\\\mathcal{I}(\\mathbf{A})$'),\n",
    "                   Line2D([0],[0],linestyle='-.',linewidth=2,color='#6c71c4',label='$(\\\\textrm{B2}) \\: \\| \\\\textsf{err}_k(w) \\|_\\mathbf{A}$, $S=\\\\mathcal{I}(\\mathbf{A})$'),\n",
    "\n",
    "                   \n",
    " #                  Line2D([0],[0],linestyle=':',linewidth=1,color='#073642',label='$(\\\\textrm{B1}) \\: (\\\\textrm{CN})$'),\n",
    "                   Line2D([0],[0],linestyle='None'),\n",
    "                   Line2D([0],[0],linestyle='-',linewidth=.5,color='#d33682',label='$S=\\\\tilde\\\\mathcal{I}(\\mathbf{A})$'),\n",
    "                   Line2D([0],[0],linestyle='-',linewidth=.5,color='#6c71c4',label='$S=\\\\tilde\\\\mathcal{I}(\\mathbf{A})$'),\n",
    "                  ]\n",
    "\n",
    "#plt.legend(handles=legend_elements,loc='lower left',ncol=2)\n",
    "\n",
    "#plt.plot(a_priori_bound_circle*2*np.linalg.norm(np.sqrt(B)*b)*(( np.sqrt(kappa) - 1 )/( np.sqrt(kappa) + 1 ))**np.arange(K),linestyle=':',linewidth=1,color='#073642')\n",
    "\n",
    "#for c in range(-1,1,3):\n",
    "#    plt.plot(10**(c)*(( np.sqrt(kappa) - 1 )/( np.sqrt(kappa) + 1 ))**np.arange(K),linestyle=':',linewidth=.5,color='#073642')\n",
    "\n",
    "plt.grid(True,linestyle=':',linewidth=.5)\n",
    "\n",
    "plt.ylim(1e-13,5e3)\n",
    "\n",
    "#plt.title(f'$\\mathbf{{A}}$-norm error bounds: $f(x) = \\sqrt{{x}}$, circle contour')\n",
    "plt.xlabel('Lanczos iteration $k$')\n",
    "\n",
    "plt.savefig('imgs/sqrt_Anorm_circle.pdf',bbox_inches='tight')"
   ]
  },
  {
   "cell_type": "markdown",
   "metadata": {},
   "source": [
    "## $f(x) = \\sqrt{x}$, $\\Gamma=$ line away from origin"
   ]
  },
  {
   "cell_type": "code",
   "execution_count": 16,
   "metadata": {},
   "outputs": [],
   "source": [
    "a_priori_bound_wedge = np.full(K,np.inf)\n",
    "a_posteriori_bound_wedge = np.full(K,np.inf)\n",
    "\n",
    "def Gamma(t):\n",
    "    z = 1e-16j - 1*t\n",
    "    dz = -1\n",
    "    \n",
    "    return z,dz\n",
    "\n",
    "for k in range(1,K):\n",
    "    a_priori_bound_wedge[k-1] = 2*get_a_priori_bound(f,Gamma,[0,np.inf],k,w,lmin,lmax)[0]\n",
    "    a_posteriori_bound_wedge[k-1] = 2*get_a_posteriori_bound(f,Gamma,[0,np.inf],a_[:k],b_[:k-1],w,lmin,lmax)[0]\n"
   ]
  },
  {
   "cell_type": "code",
   "execution_count": 17,
   "metadata": {},
   "outputs": [],
   "source": [
    "a_priori_bound_wedge_approx_spectrum = np.full(K,np.inf)\n",
    "a_posteriori_bound_wedge_approx_spectrum = np.full(K,np.inf)\n",
    "\n",
    "def Gamma(t):\n",
    "    z = 1e-16j - 1*t\n",
    "    dz = -1\n",
    "    \n",
    "    return z,dz\n",
    "\n",
    "for k in range(1,K):\n",
    "    a_priori_bound_wedge_approx_spectrum[k-1] = 2*get_a_priori_bound(f,Gamma,[0,np.inf],k,w,lmin_,lmax_)[0]\n",
    "    a_posteriori_bound_wedge_approx_spectrum[k-1] = 2*get_a_posteriori_bound(f,Gamma,[0,np.inf],a_[:k],b_[:k-1],w,lmin_,lmax_)[0]\n"
   ]
  },
  {
   "cell_type": "code",
   "execution_count": 18,
   "metadata": {},
   "outputs": [
    {
     "data": {
      "image/png": "[encoded data removed]",
      "text/plain": [
       "<Figure size 432x288 with 1 Axes>"
      ]
     },
     "metadata": {
      "needs_background": "light"
     },
     "output_type": "display_data"
    }
   ],
   "source": [
    "plt.figure(figsize=(6,4))\n",
    "\n",
    "plt.plot(err_lanczos,linestyle='-',linewidth=2,color='#073642')\n",
    "\n",
    "#plt.plot(sub_mult_bound,linestyle=(0,(4,2,1,3)),linewidth=1,color='#2aa198')\n",
    "#plt.plot(triangle_bound,linestyle=(0,(7,5)),linewidth=1,color='#859900')\n",
    "#plt.plot(full_bound,linestyle='-',linewidth=1,color='#b58900')\n",
    "plt.plot(a_priori_bound_wedge*err_CG,linestyle='-.',linewidth=2,color='#6c71c4')\n",
    "#plt.plot(lmax**(3/2) / (2*np.sqrt(np.pi)) * sp.special.gamma(-1/2+np.arange(K)) / sp.special.gamma(1+np.arange(K))*err_CG,linestyle='-.',linewidth=2,color='red')\n",
    "plt.plot(a_posteriori_bound_wedge*err_CG,linestyle='--',linewidth=2,color='#d33682')\n",
    "\n",
    "plt.plot(a_priori_bound_wedge_approx_spectrum*err_CG,linestyle='-',linewidth=.5,color='#6c71c4')\n",
    "plt.plot(a_posteriori_bound_wedge_approx_spectrum*err_CG,linestyle='-',linewidth=.5,color='#d33682')\n",
    "\n",
    "plt.yscale('log')\n",
    "\n",
    "legend_elements = [Line2D([0],[0],linestyle='-',color='#073642',label='$\\| f(\\mathbf{A})\\mathbf{b} - \\\\textsf{lan}_k(f) \\|_\\mathbf{{A}}$'),\n",
    "\n",
    "                   Line2D([0],[0],linestyle='--',linewidth=2,color='#d33682',label='$(\\\\textrm{B1}) \\: \\| \\\\textsf{err}_k(w) \\|_\\mathbf{{A}}$'),\n",
    "                   Line2D([0],[0],linestyle='-.',linewidth=2,color='#6c71c4',label='$(\\\\textrm{B2}) \\: \\| \\\\textsf{err}_k(w) \\|_\\mathbf{{A}}$'),\n",
    "                   \n",
    "                   Line2D([0],[0],linestyle='-',linewidth=.5,color='#073642',label='$\\\\exp(-2k/\\\\sqrt{\\\\kappa(\\\\mathbf{A}-w\\\\mathbf{I})})$')\n",
    "                  ]\n",
    "\n",
    "#plt.legend(handles=legend_elements,loc='lower left')\n",
    "\n",
    "#plt.plot(a_priori_bound_wedge*2*np.linalg.norm(np.sqrt(B)*b)*(( np.sqrt(kappa) - 1 )/( np.sqrt(kappa) + 1 ))**np.arange(K),linestyle=':',linewidth=1,color='#073642')\n",
    "\n",
    "\n",
    "#for c in range(-10,6,3):\n",
    "#    plt.plot(10**(c)*(( np.sqrt(kappa) - 1 )/( np.sqrt(kappa) + 1 ))**np.arange(K),linestyle=':',linewidth=.5,color='#073642')\n",
    "\n",
    "plt.grid(True,linestyle=':',linewidth=.5)\n",
    "\n",
    "plt.ylim(1e-13,5e3)\n",
    "\n",
    "#plt.title(f'$\\mathbf{{A}}$-norm error bounds: $f(x) = \\sqrt{{x}}$, Pac-Man contour')\n",
    "plt.xlabel('Lanczos iteration $k$')\n",
    "\n",
    "plt.savefig('imgs/sqrt_Anorm_wedge.pdf',bbox_inches='tight')"
   ]
  }
 ],
 "metadata": {
  "kernelspec": {
   "display_name": "Python 3",
   "language": "python",
   "name": "python3"
  },
  "language_info": {
   "codemirror_mode": {
    "name": "ipython",
    "version": 3
   },
   "file_extension": ".py",
   "mimetype": "text/x-python",
   "name": "python",
   "nbconvert_exporter": "python",
   "pygments_lexer": "ipython3",
   "version": "3.8.3"
  }
 },
 "nbformat": 4,
 "nbformat_minor": 4
}
